{
  "nbformat": 4,
  "nbformat_minor": 0,
  "metadata": {
    "colab": {
      "provenance": [],
      "authorship_tag": "ABX9TyNg9jAmJ+rRUp3J0cdXw4L1",
      "include_colab_link": true
    },
    "kernelspec": {
      "name": "python3",
      "display_name": "Python 3"
    },
    "language_info": {
      "name": "python"
    },
    "gpuClass": "standard"
  },
  "cells": [
    {
      "cell_type": "markdown",
      "metadata": {
        "id": "view-in-github",
        "colab_type": "text"
      },
      "source": [
        "<a href=\"https://colab.research.google.com/github/CalebMitchel/Imse-441/blob/main/Lab0.ipynb\" target=\"_parent\"><img src=\"https://colab.research.google.com/assets/colab-badge.svg\" alt=\"Open In Colab\"/></a>"
      ]
    },
    {
      "cell_type": "code",
      "execution_count": null,
      "metadata": {
        "id": "PgNDZb9A3Rtd"
      },
      "outputs": [],
      "source": []
    },
    {
      "cell_type": "markdown",
      "source": [
        "Lab 0 "
      ],
      "metadata": {
        "id": "fWGKT8Ek3XHP"
      }
    },
    {
      "cell_type": "code",
      "source": [
        "from google.colab import drive\n",
        "drive.mount('/content/drive')"
      ],
      "metadata": {
        "colab": {
          "base_uri": "https://localhost:8080/"
        },
        "id": "wJoVEYEb35NS",
        "outputId": "bdaf406b-0b70-4e71-a8b7-1c96ee0f0267"
      },
      "execution_count": null,
      "outputs": [
        {
          "output_type": "stream",
          "name": "stdout",
          "text": [
            "Mounted at /content/drive\n"
          ]
        }
      ]
    },
    {
      "cell_type": "code",
      "source": [
        "from pandas.core import describe\n",
        "import pandas as pd\n",
        "Dam=pd.read_csv('/content/drive/MyDrive/IMSE_441/Dams-2023.csv')\n",
        "Dam['Latitude'].describe()\n"
      ],
      "metadata": {
        "id": "zWl_bODa528y",
        "colab": {
          "base_uri": "https://localhost:8080/"
        },
        "outputId": "3f41c1ee-0741-42a8-f23d-e4bf5b5eb6b2"
      },
      "execution_count": 5,
      "outputs": [
        {
          "output_type": "execute_result",
          "data": {
            "text/plain": [
              "count    73999.000000\n",
              "mean        38.535344\n",
              "std          4.951658\n",
              "min         13.360500\n",
              "25%         34.500000\n",
              "50%         38.986600\n",
              "75%         41.976600\n",
              "max         71.266600\n",
              "Name: Latitude, dtype: float64"
            ]
          },
          "metadata": {},
          "execution_count": 5
        }
      ]
    }
  ]
}