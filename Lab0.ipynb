{
  "nbformat": 4,
  "nbformat_minor": 0,
  "metadata": {
    "colab": {
      "provenance": [],
      "mount_file_id": "https://github.com/CalebMitchel/Imse-441/blob/main/Lab0.ipynb",
      "authorship_tag": "ABX9TyO7Zwh0gBZYKYOYJXguR0zs",
      "include_colab_link": true
    },
    "kernelspec": {
      "name": "python3",
      "display_name": "Python 3"
    },
    "language_info": {
      "name": "python"
    },
    "gpuClass": "standard"
  },
  "cells": [
    {
      "cell_type": "markdown",
      "metadata": {
        "id": "view-in-github",
        "colab_type": "text"
      },
      "source": [
        "<a href=\"https://colab.research.google.com/github/CalebMitchel/Imse-441/blob/main/Lab0.ipynb\" target=\"_parent\"><img src=\"https://colab.research.google.com/assets/colab-badge.svg\" alt=\"Open In Colab\"/></a>"
      ]
    },
    {
      "cell_type": "code",
      "execution_count": null,
      "metadata": {
        "id": "PgNDZb9A3Rtd"
      },
      "outputs": [],
      "source": []
    },
    {
      "cell_type": "markdown",
      "source": [
        "Lab 0 "
      ],
      "metadata": {
        "id": "fWGKT8Ek3XHP"
      }
    },
    {
      "cell_type": "code",
      "source": [
        "from google.colab import drive\n",
        "drive.mount('/content/drive')"
      ],
      "metadata": {
        "colab": {
          "base_uri": "https://localhost:8080/"
        },
        "id": "wJoVEYEb35NS",
        "outputId": "bdaf406b-0b70-4e71-a8b7-1c96ee0f0267"
      },
      "execution_count": null,
      "outputs": [
        {
          "output_type": "stream",
          "name": "stdout",
          "text": [
            "Mounted at /content/drive\n"
          ]
        }
      ]
    },
    {
      "cell_type": "code",
      "source": [
        "from pandas.core import describe\n",
        "import pandas as pd\n",
        "Dam=pd.read_csv('/content/drive/MyDrive/IMSE_441/Dams-2023.csv')\n",
        "Dam['Latitude'].describe()"
      ],
      "metadata": {
        "id": "zWl_bODa528y",
        "colab": {
          "base_uri": "https://localhost:8080/"
        },
        "outputId": "25e0b8e5-dd40-42ee-a7ab-b3e157e99dfe"
      },
      "execution_count": 6,
      "outputs": [
        {
          "output_type": "execute_result",
          "data": {
            "text/plain": [
              "count    73999.000000\n",
              "mean        38.535344\n",
              "std          4.951658\n",
              "min         13.360500\n",
              "25%         34.500000\n",
              "50%         38.986600\n",
              "75%         41.976600\n",
              "max         71.266600\n",
              "Name: Latitude, dtype: float64"
            ]
          },
          "metadata": {},
          "execution_count": 6
        }
      ]
    },
    {
      "cell_type": "code",
      "source": [
        "from pandas.core import describe\n",
        "import pandas as pd\n",
        "Dam=pd.read_csv('/content/drive/MyDrive/IMSE_441/Dams-2023.csv')\n",
        "Dam['Longitude'].describe()"
      ],
      "metadata": {
        "colab": {
          "base_uri": "https://localhost:8080/"
        },
        "outputId": "119ce248-036f-49fe-91d6-9a62a6ae65e0",
        "id": "Z5zqJyaezlC_"
      },
      "execution_count": 5,
      "outputs": [
        {
          "output_type": "execute_result",
          "data": {
            "text/plain": [
              "count    74001.000000\n",
              "mean       -93.484288\n",
              "std         11.897321\n",
              "min       -176.687300\n",
              "25%        -99.064700\n",
              "50%        -94.650000\n",
              "75%        -84.989400\n",
              "max        -65.672000\n",
              "Name: Longitude, dtype: float64"
            ]
          },
          "metadata": {},
          "execution_count": 5
        }
      ]
    },
    {
      "cell_type": "code",
      "source": [],
      "metadata": {
        "id": "gUhHgrT5ztK2"
      },
      "execution_count": null,
      "outputs": []
    },
    {
      "cell_type": "code",
      "source": [
        "from pandas.core import describe\n",
        "import pandas as pd\n",
        "Dam=pd.read_csv('/content/drive/MyDrive/IMSE_441/Dams-2023.csv')\n",
        "Dam['Dam_Height'].describe()"
      ],
      "metadata": {
        "colab": {
          "base_uri": "https://localhost:8080/"
        },
        "outputId": "e80e279b-3a54-4f66-87b5-76c34450e8e4",
        "id": "mC7X2ZSezuK5"
      },
      "execution_count": 8,
      "outputs": [
        {
          "output_type": "execute_result",
          "data": {
            "text/plain": [
              "count    68294.000000\n",
              "mean        28.991127\n",
              "std         26.139245\n",
              "min          0.000000\n",
              "25%         18.000000\n",
              "50%         25.000000\n",
              "75%         32.000000\n",
              "max        770.000000\n",
              "Name: Dam_Height, dtype: float64"
            ]
          },
          "metadata": {},
          "execution_count": 8
        }
      ]
    }
  ]
}