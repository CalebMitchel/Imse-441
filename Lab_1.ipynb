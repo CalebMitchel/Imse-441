{
  "nbformat": 4,
  "nbformat_minor": 0,
  "metadata": {
    "colab": {
      "provenance": [],
      "mount_file_id": "1UFCIvtJnzUGIAHUsaI8HoCn_CxAxD6AT",
      "authorship_tag": "ABX9TyOwbv/K8oDq1OyT4pen5RKW",
      "include_colab_link": true
    },
    "kernelspec": {
      "name": "python3",
      "display_name": "Python 3"
    },
    "language_info": {
      "name": "python"
    }
  },
  "cells": [
    {
      "cell_type": "markdown",
      "metadata": {
        "id": "view-in-github",
        "colab_type": "text"
      },
      "source": [
        "<a href=\"https://colab.research.google.com/github/CalebMitchel/Imse-441/blob/main/Lab_1.ipynb\" target=\"_parent\"><img src=\"https://colab.research.google.com/assets/colab-badge.svg\" alt=\"Open In Colab\"/></a>"
      ]
    },
    {
      "cell_type": "code",
      "execution_count": 1,
      "metadata": {
        "id": "MnddBn2nmSS3"
      },
      "outputs": [],
      "source": [
        "import pandas as pd\n",
        "import numpy as np\n",
        "import matplotlib.pyplot as plt"
      ]
    },
    {
      "cell_type": "code",
      "source": [
        "FilmRank= pd.read_csv('/content/drive/MyDrive/IMSE_441/Lab1CPM.csv')\n",
        "FilmRank"
      ],
      "metadata": {
        "colab": {
          "base_uri": "https://localhost:8080/",
          "height": 946
        },
        "id": "IO1UM-nmmyIj",
        "outputId": "bc1d1d38-9d96-4c33-ba30-6bf179fabcf9"
      },
      "execution_count": 3,
      "outputs": [
        {
          "output_type": "execute_result",
          "data": {
            "text/plain": [
              "    Rank                                          Film Film_Short  \\\n",
              "0      1                                        Avatar        AVT   \n",
              "1      2                                         M3gan        MGN   \n",
              "2      3                               Empire Of Light        EOL   \n",
              "3      4  Whitney Houston: I Wanna Dance With Somebody         WH   \n",
              "4      5              Roald Dahl?s Matilda The Musical     RD Mat   \n",
              "5      6                             A Man Called Otto       Otto   \n",
              "6      7                                        Varisu     Varisu   \n",
              "7      8                                           Tar        Tar   \n",
              "8      9                                       Thunivu    Thunivu   \n",
              "9     10                Black Panther: Wakanda Forever      BP:WK   \n",
              "10    11                                 Strange World    S_World   \n",
              "11    12                              Waltair Veerayya      W_Vry   \n",
              "12    13                                          Till       Till   \n",
              "13    14                                      Enys Men      E_Men   \n",
              "14    15                             Veera Simha Reddy        VSR   \n",
              "\n",
              "   Country of Origin  Weekend in K           Distributor  \\\n",
              "0                USA      417.2161                Disney   \n",
              "1                USA      235.6357             Universal   \n",
              "2             UK/USA      172.1921                Disney   \n",
              "3                USA      110.3064         Sony Pictures   \n",
              "4             UK/USA       85.7293         Sony Pictures   \n",
              "5                USA       79.6076         Sony Pictures   \n",
              "6                Ind       64.8230  Ahimsa Entertainment   \n",
              "7                USA       39.4649             Universal   \n",
              "8                Ind       27.3277               DG Tech   \n",
              "9                USA       14.3774                Disney   \n",
              "10               USA       12.8986                Disney   \n",
              "11               Ind       12.3174  Dreamz Entertainment   \n",
              "12            UK/USA       11.9939             Universal   \n",
              "13                UK       10.3250                   BFI   \n",
              "14               Ind        9.5423  Dreamz Entertainment   \n",
              "\n",
              "   Distributor Abbrieviations  Weeks on release  Number of cinemas  \\\n",
              "0                         DIS                25                650   \n",
              "1                         UNI                 5                560   \n",
              "2                         DIS                 5                680   \n",
              "3                        SONY                15                 60   \n",
              "4                        SONY                40                670   \n",
              "5                        SONY                10                650   \n",
              "6                         AHI                 5                160   \n",
              "7                         UNI                 5                130   \n",
              "8                          DG                 5                 90   \n",
              "9                         DIS                50                190   \n",
              "10                        DIS                40                440   \n",
              "11                        DRM                 5                 50   \n",
              "12                        UNI                10                340   \n",
              "13                        BFI                 5                 50   \n",
              "14                        DRM                 5                 50   \n",
              "\n",
              "    Total Gross in K  \n",
              "0          6373.3634  \n",
              "1           235.6357  \n",
              "2           172.1921  \n",
              "3           820.3259  \n",
              "4          2502.7891  \n",
              "5           257.5470  \n",
              "6            64.8230  \n",
              "7            39.4649  \n",
              "8            27.3277  \n",
              "9          3421.8317  \n",
              "10          373.1300  \n",
              "11           12.3174  \n",
              "12           63.0598  \n",
              "13           10.3250  \n",
              "14            9.5423  "
            ],
            "text/html": [
              "\n",
              "  <div id=\"df-b96cd952-573a-4152-83f1-5a3bc3c64f3f\">\n",
              "    <div class=\"colab-df-container\">\n",
              "      <div>\n",
              "<style scoped>\n",
              "    .dataframe tbody tr th:only-of-type {\n",
              "        vertical-align: middle;\n",
              "    }\n",
              "\n",
              "    .dataframe tbody tr th {\n",
              "        vertical-align: top;\n",
              "    }\n",
              "\n",
              "    .dataframe thead th {\n",
              "        text-align: right;\n",
              "    }\n",
              "</style>\n",
              "<table border=\"1\" class=\"dataframe\">\n",
              "  <thead>\n",
              "    <tr style=\"text-align: right;\">\n",
              "      <th></th>\n",
              "      <th>Rank</th>\n",
              "      <th>Film</th>\n",
              "      <th>Film_Short</th>\n",
              "      <th>Country of Origin</th>\n",
              "      <th>Weekend in K</th>\n",
              "      <th>Distributor</th>\n",
              "      <th>Distributor Abbrieviations</th>\n",
              "      <th>Weeks on release</th>\n",
              "      <th>Number of cinemas</th>\n",
              "      <th>Total Gross in K</th>\n",
              "    </tr>\n",
              "  </thead>\n",
              "  <tbody>\n",
              "    <tr>\n",
              "      <th>0</th>\n",
              "      <td>1</td>\n",
              "      <td>Avatar</td>\n",
              "      <td>AVT</td>\n",
              "      <td>USA</td>\n",
              "      <td>417.2161</td>\n",
              "      <td>Disney</td>\n",
              "      <td>DIS</td>\n",
              "      <td>25</td>\n",
              "      <td>650</td>\n",
              "      <td>6373.3634</td>\n",
              "    </tr>\n",
              "    <tr>\n",
              "      <th>1</th>\n",
              "      <td>2</td>\n",
              "      <td>M3gan</td>\n",
              "      <td>MGN</td>\n",
              "      <td>USA</td>\n",
              "      <td>235.6357</td>\n",
              "      <td>Universal</td>\n",
              "      <td>UNI</td>\n",
              "      <td>5</td>\n",
              "      <td>560</td>\n",
              "      <td>235.6357</td>\n",
              "    </tr>\n",
              "    <tr>\n",
              "      <th>2</th>\n",
              "      <td>3</td>\n",
              "      <td>Empire Of Light</td>\n",
              "      <td>EOL</td>\n",
              "      <td>UK/USA</td>\n",
              "      <td>172.1921</td>\n",
              "      <td>Disney</td>\n",
              "      <td>DIS</td>\n",
              "      <td>5</td>\n",
              "      <td>680</td>\n",
              "      <td>172.1921</td>\n",
              "    </tr>\n",
              "    <tr>\n",
              "      <th>3</th>\n",
              "      <td>4</td>\n",
              "      <td>Whitney Houston: I Wanna Dance With Somebody</td>\n",
              "      <td>WH</td>\n",
              "      <td>USA</td>\n",
              "      <td>110.3064</td>\n",
              "      <td>Sony Pictures</td>\n",
              "      <td>SONY</td>\n",
              "      <td>15</td>\n",
              "      <td>60</td>\n",
              "      <td>820.3259</td>\n",
              "    </tr>\n",
              "    <tr>\n",
              "      <th>4</th>\n",
              "      <td>5</td>\n",
              "      <td>Roald Dahl?s Matilda The Musical</td>\n",
              "      <td>RD Mat</td>\n",
              "      <td>UK/USA</td>\n",
              "      <td>85.7293</td>\n",
              "      <td>Sony Pictures</td>\n",
              "      <td>SONY</td>\n",
              "      <td>40</td>\n",
              "      <td>670</td>\n",
              "      <td>2502.7891</td>\n",
              "    </tr>\n",
              "    <tr>\n",
              "      <th>5</th>\n",
              "      <td>6</td>\n",
              "      <td>A Man Called Otto</td>\n",
              "      <td>Otto</td>\n",
              "      <td>USA</td>\n",
              "      <td>79.6076</td>\n",
              "      <td>Sony Pictures</td>\n",
              "      <td>SONY</td>\n",
              "      <td>10</td>\n",
              "      <td>650</td>\n",
              "      <td>257.5470</td>\n",
              "    </tr>\n",
              "    <tr>\n",
              "      <th>6</th>\n",
              "      <td>7</td>\n",
              "      <td>Varisu</td>\n",
              "      <td>Varisu</td>\n",
              "      <td>Ind</td>\n",
              "      <td>64.8230</td>\n",
              "      <td>Ahimsa Entertainment</td>\n",
              "      <td>AHI</td>\n",
              "      <td>5</td>\n",
              "      <td>160</td>\n",
              "      <td>64.8230</td>\n",
              "    </tr>\n",
              "    <tr>\n",
              "      <th>7</th>\n",
              "      <td>8</td>\n",
              "      <td>Tar</td>\n",
              "      <td>Tar</td>\n",
              "      <td>USA</td>\n",
              "      <td>39.4649</td>\n",
              "      <td>Universal</td>\n",
              "      <td>UNI</td>\n",
              "      <td>5</td>\n",
              "      <td>130</td>\n",
              "      <td>39.4649</td>\n",
              "    </tr>\n",
              "    <tr>\n",
              "      <th>8</th>\n",
              "      <td>9</td>\n",
              "      <td>Thunivu</td>\n",
              "      <td>Thunivu</td>\n",
              "      <td>Ind</td>\n",
              "      <td>27.3277</td>\n",
              "      <td>DG Tech</td>\n",
              "      <td>DG</td>\n",
              "      <td>5</td>\n",
              "      <td>90</td>\n",
              "      <td>27.3277</td>\n",
              "    </tr>\n",
              "    <tr>\n",
              "      <th>9</th>\n",
              "      <td>10</td>\n",
              "      <td>Black Panther: Wakanda Forever</td>\n",
              "      <td>BP:WK</td>\n",
              "      <td>USA</td>\n",
              "      <td>14.3774</td>\n",
              "      <td>Disney</td>\n",
              "      <td>DIS</td>\n",
              "      <td>50</td>\n",
              "      <td>190</td>\n",
              "      <td>3421.8317</td>\n",
              "    </tr>\n",
              "    <tr>\n",
              "      <th>10</th>\n",
              "      <td>11</td>\n",
              "      <td>Strange World</td>\n",
              "      <td>S_World</td>\n",
              "      <td>USA</td>\n",
              "      <td>12.8986</td>\n",
              "      <td>Disney</td>\n",
              "      <td>DIS</td>\n",
              "      <td>40</td>\n",
              "      <td>440</td>\n",
              "      <td>373.1300</td>\n",
              "    </tr>\n",
              "    <tr>\n",
              "      <th>11</th>\n",
              "      <td>12</td>\n",
              "      <td>Waltair Veerayya</td>\n",
              "      <td>W_Vry</td>\n",
              "      <td>Ind</td>\n",
              "      <td>12.3174</td>\n",
              "      <td>Dreamz Entertainment</td>\n",
              "      <td>DRM</td>\n",
              "      <td>5</td>\n",
              "      <td>50</td>\n",
              "      <td>12.3174</td>\n",
              "    </tr>\n",
              "    <tr>\n",
              "      <th>12</th>\n",
              "      <td>13</td>\n",
              "      <td>Till</td>\n",
              "      <td>Till</td>\n",
              "      <td>UK/USA</td>\n",
              "      <td>11.9939</td>\n",
              "      <td>Universal</td>\n",
              "      <td>UNI</td>\n",
              "      <td>10</td>\n",
              "      <td>340</td>\n",
              "      <td>63.0598</td>\n",
              "    </tr>\n",
              "    <tr>\n",
              "      <th>13</th>\n",
              "      <td>14</td>\n",
              "      <td>Enys Men</td>\n",
              "      <td>E_Men</td>\n",
              "      <td>UK</td>\n",
              "      <td>10.3250</td>\n",
              "      <td>BFI</td>\n",
              "      <td>BFI</td>\n",
              "      <td>5</td>\n",
              "      <td>50</td>\n",
              "      <td>10.3250</td>\n",
              "    </tr>\n",
              "    <tr>\n",
              "      <th>14</th>\n",
              "      <td>15</td>\n",
              "      <td>Veera Simha Reddy</td>\n",
              "      <td>VSR</td>\n",
              "      <td>Ind</td>\n",
              "      <td>9.5423</td>\n",
              "      <td>Dreamz Entertainment</td>\n",
              "      <td>DRM</td>\n",
              "      <td>5</td>\n",
              "      <td>50</td>\n",
              "      <td>9.5423</td>\n",
              "    </tr>\n",
              "  </tbody>\n",
              "</table>\n",
              "</div>\n",
              "      <button class=\"colab-df-convert\" onclick=\"convertToInteractive('df-b96cd952-573a-4152-83f1-5a3bc3c64f3f')\"\n",
              "              title=\"Convert this dataframe to an interactive table.\"\n",
              "              style=\"display:none;\">\n",
              "        \n",
              "  <svg xmlns=\"http://www.w3.org/2000/svg\" height=\"24px\"viewBox=\"0 0 24 24\"\n",
              "       width=\"24px\">\n",
              "    <path d=\"M0 0h24v24H0V0z\" fill=\"none\"/>\n",
              "    <path d=\"M18.56 5.44l.94 2.06.94-2.06 2.06-.94-2.06-.94-.94-2.06-.94 2.06-2.06.94zm-11 1L8.5 8.5l.94-2.06 2.06-.94-2.06-.94L8.5 2.5l-.94 2.06-2.06.94zm10 10l.94 2.06.94-2.06 2.06-.94-2.06-.94-.94-2.06-.94 2.06-2.06.94z\"/><path d=\"M17.41 7.96l-1.37-1.37c-.4-.4-.92-.59-1.43-.59-.52 0-1.04.2-1.43.59L10.3 9.45l-7.72 7.72c-.78.78-.78 2.05 0 2.83L4 21.41c.39.39.9.59 1.41.59.51 0 1.02-.2 1.41-.59l7.78-7.78 2.81-2.81c.8-.78.8-2.07 0-2.86zM5.41 20L4 18.59l7.72-7.72 1.47 1.35L5.41 20z\"/>\n",
              "  </svg>\n",
              "      </button>\n",
              "      \n",
              "  <style>\n",
              "    .colab-df-container {\n",
              "      display:flex;\n",
              "      flex-wrap:wrap;\n",
              "      gap: 12px;\n",
              "    }\n",
              "\n",
              "    .colab-df-convert {\n",
              "      background-color: #E8F0FE;\n",
              "      border: none;\n",
              "      border-radius: 50%;\n",
              "      cursor: pointer;\n",
              "      display: none;\n",
              "      fill: #1967D2;\n",
              "      height: 32px;\n",
              "      padding: 0 0 0 0;\n",
              "      width: 32px;\n",
              "    }\n",
              "\n",
              "    .colab-df-convert:hover {\n",
              "      background-color: #E2EBFA;\n",
              "      box-shadow: 0px 1px 2px rgba(60, 64, 67, 0.3), 0px 1px 3px 1px rgba(60, 64, 67, 0.15);\n",
              "      fill: #174EA6;\n",
              "    }\n",
              "\n",
              "    [theme=dark] .colab-df-convert {\n",
              "      background-color: #3B4455;\n",
              "      fill: #D2E3FC;\n",
              "    }\n",
              "\n",
              "    [theme=dark] .colab-df-convert:hover {\n",
              "      background-color: #434B5C;\n",
              "      box-shadow: 0px 1px 3px 1px rgba(0, 0, 0, 0.15);\n",
              "      filter: drop-shadow(0px 1px 2px rgba(0, 0, 0, 0.3));\n",
              "      fill: #FFFFFF;\n",
              "    }\n",
              "  </style>\n",
              "\n",
              "      <script>\n",
              "        const buttonEl =\n",
              "          document.querySelector('#df-b96cd952-573a-4152-83f1-5a3bc3c64f3f button.colab-df-convert');\n",
              "        buttonEl.style.display =\n",
              "          google.colab.kernel.accessAllowed ? 'block' : 'none';\n",
              "\n",
              "        async function convertToInteractive(key) {\n",
              "          const element = document.querySelector('#df-b96cd952-573a-4152-83f1-5a3bc3c64f3f');\n",
              "          const dataTable =\n",
              "            await google.colab.kernel.invokeFunction('convertToInteractive',\n",
              "                                                     [key], {});\n",
              "          if (!dataTable) return;\n",
              "\n",
              "          const docLinkHtml = 'Like what you see? Visit the ' +\n",
              "            '<a target=\"_blank\" href=https://colab.research.google.com/notebooks/data_table.ipynb>data table notebook</a>'\n",
              "            + ' to learn more about interactive tables.';\n",
              "          element.innerHTML = '';\n",
              "          dataTable['output_type'] = 'display_data';\n",
              "          await google.colab.output.renderOutput(dataTable, element);\n",
              "          const docLink = document.createElement('div');\n",
              "          docLink.innerHTML = docLinkHtml;\n",
              "          element.appendChild(docLink);\n",
              "        }\n",
              "      </script>\n",
              "    </div>\n",
              "  </div>\n",
              "  "
            ]
          },
          "metadata": {},
          "execution_count": 3
        }
      ]
    },
    {
      "cell_type": "code",
      "source": [
        "plt.figure(figsize=(15,10))\n",
        "plt.plot(FilmRank['Film_Short'],FilmRank['Total Gross in K'], label='Total Gross Profit')\n",
        "plt.plot(FilmRank['Film_Short'],FilmRank['Number of cinemas'], color='red', label= 'Number of Cinemas')\n",
        "plt.title('Film Rank vs profit' )\n",
        "plt.xlabel('Film')\n",
        "plt.ylabel('Total Gross in K/Number of Cinemas')\n",
        "plt.legend()\n",
        "plt.show()"
      ],
      "metadata": {
        "colab": {
          "base_uri": "https://localhost:8080/",
          "height": 577
        },
        "id": "TJhEGS23nkOM",
        "outputId": "99f370f2-210a-4764-a768-164f3c0d71cb"
      },
      "execution_count": 12,
      "outputs": [
        {
          "output_type": "display_data",
          "data": {
            "text/plain": [
              "<Figure size 1080x720 with 1 Axes>"
            ],
            "image/png": "[encoded data removed]"
          },
          "metadata": {
            "needs_background": "light"
          }
        }
      ]
    },
    {
      "cell_type": "code",
      "source": [
        "plt.figure(figsize=(15,10))\n",
        "plt.bar(FilmRank['Film_Short'],FilmRank['Weekend in K'], label='Weekend Sales')\n",
        "plt.bar(FilmRank['Film_Short'],FilmRank['Weeks on release'], color='hotpink',bottom=FilmRank['Weekend in K'], label= 'Weeks on release')\n",
        "plt.title('Weekend Sales vs Weeks on Release' )\n",
        "plt.xlabel('Film')\n",
        "plt.ylabel('Money')\n",
        "plt.legend()\n",
        "plt.show()"
      ],
      "metadata": {
        "colab": {
          "base_uri": "https://localhost:8080/",
          "height": 581
        },
        "id": "t1NkVS0kp1oO",
        "outputId": "3d85fc23-227e-4406-8c74-398fe68f6d03"
      },
      "execution_count": 20,
      "outputs": [
        {
          "output_type": "display_data",
          "data": {
            "text/plain": [
              "<Figure size 1080x720 with 1 Axes>"
            ],
            "image/png": "[encoded data removed]"
          },
          "metadata": {
            "needs_background": "light"
          }
        }
      ]
    },
    {
      "cell_type": "code",
      "source": [
        "Disney=(FilmRank[FilmRank['Distributor Abbrieviations']=='DIS']['Total Gross in K'])\n",
        "Disney"
      ],
      "metadata": {
        "colab": {
          "base_uri": "https://localhost:8080/"
        },
        "id": "4oSGfuzBunoN",
        "outputId": "2ecce7a0-a11b-45dc-90c0-350dbfa71d39"
      },
      "execution_count": 23,
      "outputs": [
        {
          "output_type": "execute_result",
          "data": {
            "text/plain": [
              "0     6373.3634\n",
              "2      172.1921\n",
              "9     3421.8317\n",
              "10     373.1300\n",
              "Name: Total Gross in K, dtype: float64"
            ]
          },
          "metadata": {},
          "execution_count": 23
        }
      ]
    },
    {
      "cell_type": "code",
      "source": [
        "Sony=(FilmRank[FilmRank['Distributor Abbrieviations']=='SONY']['Total Gross in K'])\n",
        "Sony"
      ],
      "metadata": {
        "colab": {
          "base_uri": "https://localhost:8080/"
        },
        "id": "asn3ce39wr5A",
        "outputId": "48f968c8-495e-4dbb-e0ef-51a21cb8ab0d"
      },
      "execution_count": 24,
      "outputs": [
        {
          "output_type": "execute_result",
          "data": {
            "text/plain": [
              "3     820.3259\n",
              "4    2502.7891\n",
              "5     257.5470\n",
              "Name: Total Gross in K, dtype: float64"
            ]
          },
          "metadata": {},
          "execution_count": 24
        }
      ]
    },
    {
      "cell_type": "code",
      "source": [
        "Universal=(FilmRank[FilmRank['Distributor Abbrieviations']=='UNI']['Total Gross in K'])\n",
        "Universal"
      ],
      "metadata": {
        "colab": {
          "base_uri": "https://localhost:8080/"
        },
        "id": "ShvoVZ52wx-P",
        "outputId": "1cd165f3-7ff5-4f99-d2ac-a5bd59d90bb6"
      },
      "execution_count": 25,
      "outputs": [
        {
          "output_type": "execute_result",
          "data": {
            "text/plain": [
              "1     235.6357\n",
              "7      39.4649\n",
              "12     63.0598\n",
              "Name: Total Gross in K, dtype: float64"
            ]
          },
          "metadata": {},
          "execution_count": 25
        }
      ]
    },
    {
      "cell_type": "code",
      "source": [
        "Ahimsa_Entertainment=(FilmRank[FilmRank['Distributor Abbrieviations']=='AHI']['Total Gross in K'])\n",
        "Ahimsa_Entertainment"
      ],
      "metadata": {
        "colab": {
          "base_uri": "https://localhost:8080/"
        },
        "id": "VZsOP1JSw62v",
        "outputId": "049bf115-b01f-43ba-f612-9b0ead99451c"
      },
      "execution_count": 27,
      "outputs": [
        {
          "output_type": "execute_result",
          "data": {
            "text/plain": [
              "6    64.823\n",
              "Name: Total Gross in K, dtype: float64"
            ]
          },
          "metadata": {},
          "execution_count": 27
        }
      ]
    },
    {
      "cell_type": "code",
      "source": [
        "DG_Tech=(FilmRank[FilmRank['Distributor Abbrieviations']=='DG']['Total Gross in K'])\n",
        "DG_Tech"
      ],
      "metadata": {
        "colab": {
          "base_uri": "https://localhost:8080/"
        },
        "id": "lHcYJEWRxSLY",
        "outputId": "3e89437a-9430-42fe-afa6-1bd0be35ddfb"
      },
      "execution_count": 28,
      "outputs": [
        {
          "output_type": "execute_result",
          "data": {
            "text/plain": [
              "8    27.3277\n",
              "Name: Total Gross in K, dtype: float64"
            ]
          },
          "metadata": {},
          "execution_count": 28
        }
      ]
    },
    {
      "cell_type": "code",
      "source": [
        "BFI=(FilmRank[FilmRank['Distributor Abbrieviations']=='BFI']['Total Gross in K'])\n",
        "BFI"
      ],
      "metadata": {
        "colab": {
          "base_uri": "https://localhost:8080/"
        },
        "id": "fWhmtZUWxwuJ",
        "outputId": "1907d268-b502-4bbf-fb4f-749e524d91d1"
      },
      "execution_count": 29,
      "outputs": [
        {
          "output_type": "execute_result",
          "data": {
            "text/plain": [
              "13    10.325\n",
              "Name: Total Gross in K, dtype: float64"
            ]
          },
          "metadata": {},
          "execution_count": 29
        }
      ]
    },
    {
      "cell_type": "code",
      "source": [
        "Dreamz_Entertainment=(FilmRank[FilmRank['Distributor Abbrieviations']=='DRM']['Total Gross in K'])\n",
        "Dreamz_Entertainment"
      ],
      "metadata": {
        "colab": {
          "base_uri": "https://localhost:8080/"
        },
        "id": "MbYxsOxzx9jZ",
        "outputId": "ffbb6f57-2fda-4401-9fee-36c3ffe2103b"
      },
      "execution_count": 30,
      "outputs": [
        {
          "output_type": "execute_result",
          "data": {
            "text/plain": [
              "11    12.3174\n",
              "14     9.5423\n",
              "Name: Total Gross in K, dtype: float64"
            ]
          },
          "metadata": {},
          "execution_count": 30
        }
      ]
    },
    {
      "cell_type": "code",
      "source": [
        "plt.figure(figsize=(15,10))\n",
        "plt.boxplot([Disney, Universal, Sony, Ahimsa_Entertainment, DG_Tech, Dreamz_Entertainment, BFI])\n",
        "plt.title('Distributor vs Total Gross Income' )\n",
        "plt.xlabel('Distributor')\n",
        "plt.ylabel('Income in K')\n",
        "plt.show()"
      ],
      "metadata": {
        "colab": {
          "base_uri": "https://localhost:8080/",
          "height": 676
        },
        "id": "38GjWJnqyYlR",
        "outputId": "1436e31b-f4d1-4f09-9533-8ac1cc00b4a0"
      },
      "execution_count": 33,
      "outputs": [
        {
          "output_type": "stream",
          "name": "stderr",
          "text": [
            "/usr/local/lib/python3.8/dist-packages/matplotlib/cbook/__init__.py:1376: VisibleDeprecationWarning: Creating an ndarray from ragged nested sequences (which is a list-or-tuple of lists-or-tuples-or ndarrays with different lengths or shapes) is deprecated. If you meant to do this, you must specify 'dtype=object' when creating the ndarray.\n",
            "  X = np.atleast_1d(X.T if isinstance(X, np.ndarray) else np.asarray(X))\n"
          ]
        },
        {
          "output_type": "display_data",
          "data": {
            "text/plain": [
              "<Figure size 1080x720 with 1 Axes>"
            ],
            "image/png": "[encoded data removed]"
          },
          "metadata": {
            "needs_background": "light"
          }
        }
      ]
    },
    {
      "cell_type": "code",
      "source": [
        "Distributor_Abbrieviations=['DIS', 'UNI', 'SONY', 'AHI', 'DG', 'DRM', 'BFI']\n",
        "Total_Gross_in_K=[sum(Disney), sum(Universal), sum(Sony), sum(Ahimsa_Entertainment), sum(DG_Tech), sum(Dreamz_Entertainment), sum(BFI)]\n",
        "plt.figure(figsize=(10,10))\n",
        "plt.pie(Total_Gross_in_K,labels=Distributor_Abbrieviations,autopct='%.1f%%', explode=[.0,.0,.05,.5,.8,1,1.2])\n",
        "plt.title('Distributor Market Share' )\n",
        "plt.show()"
      ],
      "metadata": {
        "colab": {
          "base_uri": "https://localhost:8080/",
          "height": 591
        },
        "id": "oLuJ0cwY1IXm",
        "outputId": "b3e4cd33-7e3c-4c8c-f891-c49d997e5f45"
      },
      "execution_count": 109,
      "outputs": [
        {
          "output_type": "display_data",
          "data": {
            "text/plain": [
              "<Figure size 720x720 with 1 Axes>"
            ],
            "image/png": "[encoded data removed]"
          },
          "metadata": {}
        }
      ]
    },
    {
      "cell_type": "code",
      "source": [
        "#The conclusions that I can make from the plots would be that for the amount of money made compared to \n",
        "#amount of cinemas and weeks released does not directly correlate to the amount of profit but disney has\n",
        "#had the most sucess with their movies which  you can see in every plot"
      ],
      "metadata": {
        "id": "-nge1QD_DHrY"
      },
      "execution_count": 114,
      "outputs": []
    }
  ]
}