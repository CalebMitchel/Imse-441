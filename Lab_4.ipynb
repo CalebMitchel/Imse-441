{
  "nbformat": 4,
  "nbformat_minor": 0,
  "metadata": {
    "colab": {
      "provenance": [],
      "authorship_tag": "ABX9TyMOVlzFkx+KqhE4Ek9W93lZ",
      "include_colab_link": true
    },
    "kernelspec": {
      "name": "python3",
      "display_name": "Python 3"
    },
    "language_info": {
      "name": "python"
    }
  },
  "cells": [
    {
      "cell_type": "markdown",
      "metadata": {
        "id": "view-in-github",
        "colab_type": "text"
      },
      "source": [
        "<a href=\"https://colab.research.google.com/github/CalebMitchel/Imse-441/blob/main/Lab_4.ipynb\" target=\"_parent\"><img src=\"https://colab.research.google.com/assets/colab-badge.svg\" alt=\"Open In Colab\"/></a>"
      ]
    },
    {
      "cell_type": "markdown",
      "source": [
        "4.5.1 A).906582 B).998650 C)1-.926471 = .073529 D).984222 E).960796 - .009642 = .951154\n",
        "\n",
        "4.5.2 A) 1.65 B)2.33 C).47 D)2.79\n",
        "\n",
        "4.5.7 A)2.28%  B) 47.72%  C) 0.0\n",
        "\n",
        "4.5.8 A) 80.8  B) 1st Quartile=79.6 Second Quartile= 238.8 C)X=263.432 D)   E)  F)"
      ],
      "metadata": {
        "id": "MRQzPNL5DORh"
      }
    },
    {
      "cell_type": "code",
      "source": [
        "import numpy as np\n",
        "import matplotlib.pyplot as plt\n",
        "from scipy.stats import norm"
      ],
      "metadata": {
        "id": "kFnWNFRXFItl"
      },
      "execution_count": null,
      "outputs": []
    },
    {
      "cell_type": "code",
      "source": [
        "#Finding the normal CDF\n",
        "#norm.cdf(X, mean , sd).cdf(X)\n",
        "CDF_X=1- norm.cdf(.5,.4,.05)\n",
        "CDF_X"
      ],
      "metadata": {
        "colab": {
          "base_uri": "https://localhost:8080/"
        },
        "id": "ncs2abI5FMZz",
        "outputId": "13b88b9e-fbb2-4957-b186-1db2e160f5c4"
      },
      "execution_count": null,
      "outputs": [
        {
          "output_type": "execute_result",
          "data": {
            "text/plain": [
              "0.02275013194817921"
            ]
          },
          "metadata": {},
          "execution_count": 7
        }
      ]
    },
    {
      "cell_type": "code",
      "source": [
        "#Finding the normal CDF for range\n",
        "CDF_xu= norm.cdf(.4,.4,.05)\n",
        "CDF_xl= norm.cdf(.5,.4,.05)\n",
        "CDF_xr=CDF_xu-CDF_xl\n",
        "CDF_xr"
      ],
      "metadata": {
        "colab": {
          "base_uri": "https://localhost:8080/"
        },
        "id": "icupgDwFHrUE",
        "outputId": "240991a0-4b1e-4878-8429-e1841d441e1e"
      },
      "execution_count": null,
      "outputs": [
        {
          "output_type": "execute_result",
          "data": {
            "text/plain": [
              "-0.4772498680518208"
            ]
          },
          "metadata": {},
          "execution_count": 10
        }
      ]
    },
    {
      "cell_type": "code",
      "source": [
        "#C\n",
        "#Finding the normal CDF\n",
        "#norm.cdf(X, mean , sd).cdf(X)\n",
        "CDF_X=1- norm.cdf(.9,.4,.05)\n",
        "CDF_X"
      ],
      "metadata": {
        "colab": {
          "base_uri": "https://localhost:8080/"
        },
        "id": "mrA1FFR_KGso",
        "outputId": "3bcea741-c23e-4f25-b12b-a85e6062a47f"
      },
      "execution_count": null,
      "outputs": [
        {
          "output_type": "execute_result",
          "data": {
            "text/plain": [
              "0.0"
            ]
          },
          "metadata": {},
          "execution_count": 3
        }
      ]
    },
    {
      "cell_type": "code",
      "source": [],
      "metadata": {
        "id": "ywAKQZerNheC"
      },
      "execution_count": null,
      "outputs": []
    }
  ]
}