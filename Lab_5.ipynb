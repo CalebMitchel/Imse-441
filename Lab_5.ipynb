{
  "nbformat": 4,
  "nbformat_minor": 0,
  "metadata": {
    "colab": {
      "provenance": [],
      "authorship_tag": "ABX9TyNKv76E27tNCX123xj6IJyx",
      "include_colab_link": true
    },
    "kernelspec": {
      "name": "python3",
      "display_name": "Python 3"
    },
    "language_info": {
      "name": "python"
    }
  },
  "cells": [
    {
      "cell_type": "markdown",
      "metadata": {
        "id": "view-in-github",
        "colab_type": "text"
      },
      "source": [
        "<a href=\"https://colab.research.google.com/github/CalebMitchel/Imse-441/blob/main/Lab_5.ipynb\" target=\"_parent\"><img src=\"https://colab.research.google.com/assets/colab-badge.svg\" alt=\"Open In Colab\"/></a>"
      ]
    },
    {
      "cell_type": "code",
      "source": [
        "import numpy as np\n",
        "import matplotlib.pyplot as plt\n",
        "from scipy.stats import expon\n",
        "from scipy.stats.distributions import weibull_min\n",
        "from scipy.stats import norm"
      ],
      "metadata": {
        "id": "8PzP_6JYPIye"
      },
      "execution_count": null,
      "outputs": []
    },
    {
      "cell_type": "markdown",
      "source": [
        "4.7.8"
      ],
      "metadata": {
        "id": "sJCQDnJMeqp3"
      }
    },
    {
      "cell_type": "code",
      "source": [
        "#A\n",
        "#Probability of X=<1/10, Lambda= 5\n",
        "#Expon.cdf(x,scale=1/lambda)\n",
        "m= expon.cdf(x=1/10,scale=1/5)\n",
        "m"
      ],
      "metadata": {
        "colab": {
          "base_uri": "https://localhost:8080/"
        },
        "id": "q7Zis7Y3eqI4",
        "outputId": "719404f6-92c5-4b30-cd25-342a5ed6dabe"
      },
      "execution_count": null,
      "outputs": [
        {
          "output_type": "execute_result",
          "data": {
            "text/plain": [
              "0.3934693402873666"
            ]
          },
          "metadata": {},
          "execution_count": 7
        }
      ]
    },
    {
      "cell_type": "code",
      "source": [
        "#B\n",
        "#Probability of X=<1/10, Lambda= 5\n",
        "#Expon.cdf(x,scale=1/lambda)\n",
        "m= expon.cdf(x=2/10,scale=1/5)\n",
        "m"
      ],
      "metadata": {
        "colab": {
          "base_uri": "https://localhost:8080/"
        },
        "id": "OfQTHN2Ega67",
        "outputId": "5bac8917-b898-4a20-c6a0-6e0d7aa642fc"
      },
      "execution_count": null,
      "outputs": [
        {
          "output_type": "execute_result",
          "data": {
            "text/plain": [
              "0.6321205588285577"
            ]
          },
          "metadata": {},
          "execution_count": 8
        }
      ]
    },
    {
      "cell_type": "code",
      "source": [
        "#C\n",
        " expon.std(scale=1/5)"
      ],
      "metadata": {
        "colab": {
          "base_uri": "https://localhost:8080/"
        },
        "id": "F4XDGVKPhMp1",
        "outputId": "470f1027-40eb-415d-d7b9-c230247ec9fe"
      },
      "execution_count": null,
      "outputs": [
        {
          "output_type": "execute_result",
          "data": {
            "text/plain": [
              "0.2"
            ]
          },
          "metadata": {},
          "execution_count": 11
        }
      ]
    },
    {
      "cell_type": "code",
      "source": [
        "#D\n",
        "#Finding the normal CDF for range\n",
        "CDF_xu= norm.cdf(1/12,1/5,1/5)\n",
        "CDF_xl= norm.cdf(1/15,1/5,1/5)\n",
        "CDF_xr=CDF_xu-CDF_xl\n",
        "CDF_xr\n",
        "\n",
        "#NEED HELP ON THIS IS NORM RIGHT OR DO WE NEED EXPON?"
      ],
      "metadata": {
        "colab": {
          "base_uri": "https://localhost:8080/"
        },
        "id": "UyJloR7ahxqA",
        "outputId": "9b9908fb-7a34-4dd4-8e03-3dd47adfda12"
      },
      "execution_count": null,
      "outputs": [
        {
          "output_type": "execute_result",
          "data": {
            "text/plain": [
              "0.027341926052782906"
            ]
          },
          "metadata": {},
          "execution_count": 43
        }
      ]
    },
    {
      "cell_type": "code",
      "source": [
        "#E\n",
        "#Probability of X=<1/5, Lambda= 5\n",
        "#Expon.cdf(x,scale=1/lambda)\n",
        "m= expon.cdf(x=1/5,scale=1/5)\n",
        "m*m"
      ],
      "metadata": {
        "colab": {
          "base_uri": "https://localhost:8080/"
        },
        "id": "C1lhqYQUktss",
        "outputId": "c5540068-1cc3-43e2-be1c-a7107be2c4cb"
      },
      "execution_count": null,
      "outputs": [
        {
          "output_type": "execute_result",
          "data": {
            "text/plain": [
              "0.39957640089372803"
            ]
          },
          "metadata": {},
          "execution_count": 21
        }
      ]
    },
    {
      "cell_type": "code",
      "source": [
        "#F\n",
        "#Probability of X=<1/15, Lambda= 5\n",
        "#Expon.cdf(x,scale=1/lambda)\n",
        "m= expon.cdf(x=1/15,scale=1/5)\n",
        "m"
      ],
      "metadata": {
        "colab": {
          "base_uri": "https://localhost:8080/"
        },
        "id": "DHOyWQgQnefv",
        "outputId": "0969eea8-37cd-4e04-d9c8-4771202a6e3f"
      },
      "execution_count": null,
      "outputs": [
        {
          "output_type": "execute_result",
          "data": {
            "text/plain": [
              "0.28346868942621073"
            ]
          },
          "metadata": {},
          "execution_count": 22
        }
      ]
    },
    {
      "cell_type": "markdown",
      "source": [
        "4.9.7"
      ],
      "metadata": {
        "id": "LkgBPbHtPs8r"
      }
    },
    {
      "cell_type": "code",
      "execution_count": null,
      "metadata": {
        "colab": {
          "base_uri": "https://localhost:8080/"
        },
        "id": "5TG0E9G_N3qT",
        "outputId": "45bbd892-f7cd-4b1a-c450-eb4721cade09"
      },
      "outputs": [
        {
          "output_type": "execute_result",
          "data": {
            "text/plain": [
              "0.20961138715109784"
            ]
          },
          "metadata": {},
          "execution_count": 5
        }
      ],
      "source": [
        "#A\n",
        "#Finding the probalibty of bearing lifetime more that 6000 hours, shape=2, scale=5000\n",
        "#weibull_min=(x,c=shape=beta,scale=delta=1) scale default value is 1 for python, so divide 'x' by the given scale to transform the values to python form\n",
        "P5000=1-weibull_min.cdf(1.25,c=2,scale=1)\n",
        "P5000"
      ]
    },
    {
      "cell_type": "code",
      "source": [
        "#B\n",
        "p8000=1-weibull_min.cdf(2,c=2)\n",
        "p8000"
      ],
      "metadata": {
        "colab": {
          "base_uri": "https://localhost:8080/"
        },
        "id": "NSx5bbk_P1_P",
        "outputId": "95dbca4a-9974-4685-d0e8-54d451e41f6d"
      },
      "execution_count": null,
      "outputs": [
        {
          "output_type": "execute_result",
          "data": {
            "text/plain": [
              "0.01831563888873422"
            ]
          },
          "metadata": {},
          "execution_count": 9
        }
      ]
    },
    {
      "cell_type": "code",
      "source": [
        "p3000=1-weibull_min.cdf(.75,c=2)\n",
        "p3000"
      ],
      "metadata": {
        "colab": {
          "base_uri": "https://localhost:8080/"
        },
        "id": "0MjQVp3hQPwb",
        "outputId": "fdb4e967-f62b-4fe0-befe-b69aaced5f82"
      },
      "execution_count": null,
      "outputs": [
        {
          "output_type": "execute_result",
          "data": {
            "text/plain": [
              "0.569782824730923"
            ]
          },
          "metadata": {},
          "execution_count": 10
        }
      ]
    },
    {
      "cell_type": "code",
      "source": [
        "P=p8000/p3000\n",
        "P"
      ],
      "metadata": {
        "colab": {
          "base_uri": "https://localhost:8080/"
        },
        "id": "ASc573DhQdxh",
        "outputId": "ae75213c-28d0-42f0-9475-5180e23feb36"
      },
      "execution_count": null,
      "outputs": [
        {
          "output_type": "execute_result",
          "data": {
            "text/plain": [
              "0.032144947326876144"
            ]
          },
          "metadata": {},
          "execution_count": 11
        }
      ]
    },
    {
      "cell_type": "markdown",
      "source": [
        "4.7.10"
      ],
      "metadata": {
        "id": "ylJ9_bcfn5FL"
      }
    },
    {
      "cell_type": "code",
      "source": [
        "#A\n",
        "#Probability of X=<1/3, Lambda= 1/24\n",
        "#Expon.cdf(x,scale=1/lambda)\n",
        "m= 1-expon.cdf(x=1/3,scale=1/24)\n",
        "m"
      ],
      "metadata": {
        "colab": {
          "base_uri": "https://localhost:8080/"
        },
        "id": "jiIF5mdsn7vq",
        "outputId": "a33fab96-3f50-42cc-86ef-97e3cc8c645b"
      },
      "execution_count": null,
      "outputs": [
        {
          "output_type": "execute_result",
          "data": {
            "text/plain": [
              "0.00033546262790251635"
            ]
          },
          "metadata": {},
          "execution_count": 30
        }
      ]
    },
    {
      "cell_type": "code",
      "source": [
        "#B\n",
        "#Probability of X=<1/3, Lambda= 30/24\n",
        "#Expon.cdf(x,scale=1/lambda)\n",
        "m= expon.cdf(x=1/3,scale=30/24)\n",
        "m"
      ],
      "metadata": {
        "colab": {
          "base_uri": "https://localhost:8080/"
        },
        "id": "MPd9MMs-rIqi",
        "outputId": "25a56e68-7286-4753-d6f8-145cbd94d4c9"
      },
      "execution_count": null,
      "outputs": [
        {
          "output_type": "execute_result",
          "data": {
            "text/plain": [
              "0.23407166163535134"
            ]
          },
          "metadata": {},
          "execution_count": 32
        }
      ]
    },
    {
      "cell_type": "code",
      "source": [
        "#C\n",
        "p10=expon.cdf(x=.1,scale=1/24)\n",
        "p10"
      ],
      "metadata": {
        "colab": {
          "base_uri": "https://localhost:8080/"
        },
        "id": "_Xc7r1bJrS7R",
        "outputId": "e32190a1-b62f-4b0c-e65c-d30e2896301e"
      },
      "execution_count": null,
      "outputs": [
        {
          "output_type": "execute_result",
          "data": {
            "text/plain": [
              "0.9092820467105875"
            ]
          },
          "metadata": {},
          "execution_count": 40
        }
      ]
    },
    {
      "cell_type": "code",
      "source": [
        "#D\n",
        "h= expon.cdf(x=1.5, scale=1/24)\n",
        "h"
      ],
      "metadata": {
        "id": "Mv2Dz0IKtNNN",
        "colab": {
          "base_uri": "https://localhost:8080/"
        },
        "outputId": "0ddcf69a-1698-40c3-e811-1c1a5211a9e3"
      },
      "execution_count": null,
      "outputs": [
        {
          "output_type": "execute_result",
          "data": {
            "text/plain": [
              "0.9999999999999998"
            ]
          },
          "metadata": {},
          "execution_count": 5
        }
      ]
    },
    {
      "cell_type": "markdown",
      "source": [
        "4.9.12"
      ],
      "metadata": {
        "id": "r2IL3TyfvYGT"
      }
    },
    {
      "cell_type": "code",
      "source": [
        "#A\n"
      ],
      "metadata": {
        "id": "iVAUWYd0vaMs"
      },
      "execution_count": null,
      "outputs": []
    }
  ]
}